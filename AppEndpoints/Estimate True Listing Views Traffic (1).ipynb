{
 "cells": [
  {
   "cell_type": "code",
   "execution_count": 19,
   "metadata": {},
   "outputs": [],
   "source": [
    "%matplotlib inline\n",
    "#Imports\n",
    "import pandas as pd\n",
    "import numpy as np\n",
    "from scipy.stats import beta"
   ]
  },
  {
   "cell_type": "code",
   "execution_count": null,
   "metadata": {},
   "outputs": [],
   "source": []
  },
  {
   "cell_type": "code",
   "execution_count": 20,
   "metadata": {},
   "outputs": [],
   "source": [
    "averageViewsPerListingPerDay = 0.85\n",
    "averageViewsPerDay = 28.5"
   ]
  },
  {
   "cell_type": "code",
   "execution_count": 21,
   "metadata": {},
   "outputs": [
    {
     "data": {
      "text/plain": [
       "0.02982456140350877"
      ]
     },
     "execution_count": 21,
     "metadata": {},
     "output_type": "execute_result"
    }
   ],
   "source": [
    "averageViewsPerListingPerDay/averageViewsPerDay"
   ]
  },
  {
   "cell_type": "code",
   "execution_count": 37,
   "metadata": {},
   "outputs": [],
   "source": [
    "priorScale = 7 #one week\n",
    "priorAlpha = averageViewsPerListingPerDay * priorScale #average views per listing per day (success)\n",
    "priorBeta = (averageViewsPerDay * priorScale) - priorAlpha #average total views per day minus average listing views (failures)\n",
    "\n",
    "scale = 10 #scale to make graph pretty\n",
    "\n",
    "listingViews = 13 #test, test listing had 12 views in 2 weeks\n",
    "totalSiteViews = 540 #test assume we had 27 total listing views per day for 2 weeks\n",
    "\n",
    "posteriorAlpha = priorAlpha + listingViews\n",
    "posteriorBeta = priorBeta + (totalSiteViews - listingViews)"
   ]
  },
  {
   "cell_type": "code",
   "execution_count": 38,
   "metadata": {},
   "outputs": [
    {
     "data": {
      "text/plain": [
       "0.024074074074074074"
      ]
     },
     "execution_count": 38,
     "metadata": {},
     "output_type": "execute_result"
    }
   ],
   "source": [
    "#test rate of total listing views\n",
    "listingViews/totalSiteViews"
   ]
  },
  {
   "cell_type": "code",
   "execution_count": 39,
   "metadata": {},
   "outputs": [],
   "source": [
    "#assume 28.5 total views per day, this listing will get this number of views\n",
    "#28.5 * (listingViews/totalViews)"
   ]
  },
  {
   "cell_type": "code",
   "execution_count": 40,
   "metadata": {},
   "outputs": [],
   "source": [
    "#assume 27 total views per day, this listing will get this number of views\n",
    "#27 * (listingViews/totalViews)"
   ]
  },
  {
   "cell_type": "code",
   "execution_count": 41,
   "metadata": {},
   "outputs": [
    {
     "data": {
      "image/png": "[encoded data removed]",
      "text/plain": [
       "<Figure size 640x480 with 1 Axes>"
      ]
     },
     "metadata": {
      "needs_background": "light"
     },
     "output_type": "display_data"
    }
   ],
   "source": [
    "import matplotlib.pyplot as plt\n",
    "\n",
    "#Plot pdf\n",
    "fig, ax = plt.subplots(1, 1, figsize=(8, 6), dpi=80)\n",
    "x = np.linspace(beta.ppf(0.001, posteriorAlpha, posteriorBeta, scale=scale),\n",
    "              beta.ppf(0.999, posteriorAlpha, posteriorBeta, scale=scale), 1000)\n",
    "ax.plot(x, beta.pdf(x, posteriorAlpha, posteriorBeta, scale=scale),\n",
    "         'r-', lw=5, alpha=0.6, label='beta pdf')\n",
    "\n",
    "#Make plot pretty\n",
    "ax.legend(loc='best', frameon=False)\n",
    "ax.set_xlim([0, 1])\n",
    "ax.set_ylim([0, 15])\n",
    "plt.title(\"Percent of Total Listing Views\")\n",
    "plt.ylabel('Density')\n",
    "plt.xlabel('Percent of Total Listing Views')\n",
    "plt.grid(b=True, which='major', color='gray', linestyle='--', alpha= 0.3)\n",
    "plt.show()"
   ]
  },
  {
   "cell_type": "code",
   "execution_count": 29,
   "metadata": {},
   "outputs": [],
   "source": [
    "ntrials = 10000\n",
    "sample = beta.rvs(posteriorAlpha, posteriorBeta, scale=scale, size=ntrials)"
   ]
  },
  {
   "cell_type": "code",
   "execution_count": 30,
   "metadata": {},
   "outputs": [
    {
     "data": {
      "text/plain": [
       "0.053074050928079416"
      ]
     },
     "execution_count": 30,
     "metadata": {},
     "output_type": "execute_result"
    }
   ],
   "source": [
    "(np.mean(sample)/scale)"
   ]
  },
  {
   "cell_type": "code",
   "execution_count": 31,
   "metadata": {},
   "outputs": [
    {
     "data": {
      "text/plain": [
       "0.04621525386093442"
      ]
     },
     "execution_count": 31,
     "metadata": {},
     "output_type": "execute_result"
    }
   ],
   "source": [
    "(np.quantile(sample, .025)/ scale)"
   ]
  },
  {
   "cell_type": "code",
   "execution_count": 32,
   "metadata": {},
   "outputs": [
    {
     "data": {
      "text/plain": [
       "0.06031772215585364"
      ]
     },
     "execution_count": 32,
     "metadata": {},
     "output_type": "execute_result"
    }
   ],
   "source": [
    "(np.quantile(sample, .975)/ scale)"
   ]
  },
  {
   "cell_type": "code",
   "execution_count": 33,
   "metadata": {},
   "outputs": [],
   "source": [
    "# Assuming 28.5 total listing views per day, this is what we can expect as views per day for this listing"
   ]
  },
  {
   "cell_type": "code",
   "execution_count": 34,
   "metadata": {},
   "outputs": [
    {
     "data": {
      "text/plain": [
       "1.5126104514502634"
      ]
     },
     "execution_count": 34,
     "metadata": {},
     "output_type": "execute_result"
    }
   ],
   "source": [
    "(np.mean(sample)/scale) * averageViewsPerDay"
   ]
  },
  {
   "cell_type": "code",
   "execution_count": 35,
   "metadata": {},
   "outputs": [
    {
     "data": {
      "text/plain": [
       "1.317134735036631"
      ]
     },
     "execution_count": 35,
     "metadata": {},
     "output_type": "execute_result"
    }
   ],
   "source": [
    "(np.quantile(sample, .025)/ scale) * averageViewsPerDay"
   ]
  },
  {
   "cell_type": "code",
   "execution_count": 36,
   "metadata": {},
   "outputs": [
    {
     "data": {
      "text/plain": [
       "1.7190550814418288"
      ]
     },
     "execution_count": 36,
     "metadata": {},
     "output_type": "execute_result"
    }
   ],
   "source": [
    "(np.quantile(sample, .975)/ scale) * averageViewsPerDay"
   ]
  },
  {
   "cell_type": "code",
   "execution_count": null,
   "metadata": {},
   "outputs": [],
   "source": []
  }
 ],
 "metadata": {
  "kernelspec": {
   "display_name": "Python 3",
   "language": "python",
   "name": "python3"
  },
  "language_info": {
   "codemirror_mode": {
    "name": "ipython",
    "version": 3
   },
   "file_extension": ".py",
   "mimetype": "text/x-python",
   "name": "python",
   "nbconvert_exporter": "python",
   "pygments_lexer": "ipython3",
   "version": "3.7.1"
  }
 },
 "nbformat": 4,
 "nbformat_minor": 2
}
