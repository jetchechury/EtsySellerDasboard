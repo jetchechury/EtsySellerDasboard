{
 "cells": [
  {
   "cell_type": "code",
   "execution_count": 1,
   "metadata": {},
   "outputs": [],
   "source": [
    "import os\n",
    "import config\n",
    "\n",
    "import pandas as pd\n",
    "import numpy as np\n",
    "from scipy.stats import beta\n",
    "\n",
    "from flask import Flask, jsonify, render_template\n",
    "\n",
    "import mysql.connector\n",
    "\n",
    "from datetime import datetime, date, time, timedelta\n",
    "from time import sleep\n",
    "\n",
    "from selenium import webdriver\n",
    "from selenium.webdriver.support.ui import Select\n",
    "from selenium.webdriver.common.action_chains import ActionChains\n",
    "from bs4 import BeautifulSoup\n",
    "from selenium.webdriver.chrome.options import Options\n",
    "import requests\n",
    "\n",
    "import firebase_admin\n",
    "from firebase_admin import credentials\n",
    "from firebase_admin import db\n"
   ]
  },
  {
   "cell_type": "code",
   "execution_count": 2,
   "metadata": {},
   "outputs": [
    {
     "data": {
      "text/plain": [
       "<firebase_admin.App at 0x10fe120f0>"
      ]
     },
     "execution_count": 2,
     "metadata": {},
     "output_type": "execute_result"
    }
   ],
   "source": [
    "# Fetch the service account key JSON file contents\n",
    "cred = credentials.Certificate(config.firebase_file_path)\n",
    "# Initialize the app with a service account, granting admin privileges\n",
    "firebase_admin.initialize_app(cred, {\n",
    "    'databaseURL': config.databaseURL\n",
    "})\n",
    "\n"
   ]
  },
  {
   "cell_type": "code",
   "execution_count": 3,
   "metadata": {},
   "outputs": [
    {
     "data": {
      "text/html": [
       "<div>\n",
       "<style scoped>\n",
       "    .dataframe tbody tr th:only-of-type {\n",
       "        vertical-align: middle;\n",
       "    }\n",
       "\n",
       "    .dataframe tbody tr th {\n",
       "        vertical-align: top;\n",
       "    }\n",
       "\n",
       "    .dataframe thead th {\n",
       "        text-align: right;\n",
       "    }\n",
       "</style>\n",
       "<table border=\"1\" class=\"dataframe\">\n",
       "  <thead>\n",
       "    <tr style=\"text-align: right;\">\n",
       "      <th></th>\n",
       "      <th>listingID</th>\n",
       "      <th>record_date</th>\n",
       "      <th>revenue</th>\n",
       "      <th>sold</th>\n",
       "      <th>visits</th>\n",
       "    </tr>\n",
       "  </thead>\n",
       "  <tbody>\n",
       "    <tr>\n",
       "      <th>0</th>\n",
       "      <td>706002567</td>\n",
       "      <td>7/9/19</td>\n",
       "      <td>0</td>\n",
       "      <td>0</td>\n",
       "      <td>1</td>\n",
       "    </tr>\n",
       "    <tr>\n",
       "      <th>1</th>\n",
       "      <td>704569159</td>\n",
       "      <td>7/9/19</td>\n",
       "      <td>0</td>\n",
       "      <td>0</td>\n",
       "      <td>0</td>\n",
       "    </tr>\n",
       "    <tr>\n",
       "      <th>2</th>\n",
       "      <td>703387331</td>\n",
       "      <td>7/9/19</td>\n",
       "      <td>0</td>\n",
       "      <td>0</td>\n",
       "      <td>0</td>\n",
       "    </tr>\n",
       "    <tr>\n",
       "      <th>3</th>\n",
       "      <td>702303569</td>\n",
       "      <td>7/9/19</td>\n",
       "      <td>0</td>\n",
       "      <td>0</td>\n",
       "      <td>1</td>\n",
       "    </tr>\n",
       "    <tr>\n",
       "      <th>4</th>\n",
       "      <td>701344590</td>\n",
       "      <td>7/9/19</td>\n",
       "      <td>0</td>\n",
       "      <td>0</td>\n",
       "      <td>0</td>\n",
       "    </tr>\n",
       "  </tbody>\n",
       "</table>\n",
       "</div>"
      ],
      "text/plain": [
       "   listingID record_date revenue sold visits\n",
       "0  706002567      7/9/19       0    0      1\n",
       "1  704569159      7/9/19       0    0      0\n",
       "2  703387331      7/9/19       0    0      0\n",
       "3  702303569      7/9/19       0    0      1\n",
       "4  701344590      7/9/19       0    0      0"
      ]
     },
     "execution_count": 3,
     "metadata": {},
     "output_type": "execute_result"
    }
   ],
   "source": [
    "listing_stats_db = \"listing_stats.json\"\n",
    "r = requests.get(config.databaseURL + listing_stats_db)\n",
    "r = r.json()\n",
    "\n",
    "if r:\n",
    "    data = [r[i] for i in r]\n",
    "    listingstats_df = pd.DataFrame.from_dict(data, orient='columns')\n",
    "\n",
    "listingstats_df.head()"
   ]
  },
  {
   "cell_type": "code",
   "execution_count": 4,
   "metadata": {},
   "outputs": [],
   "source": [
    "listingstats_df['record_date']= pd.to_datetime(listingstats_df['record_date'])"
   ]
  },
  {
   "cell_type": "code",
   "execution_count": 5,
   "metadata": {},
   "outputs": [],
   "source": [
    "listingstats_df[\"record_date_local\"] = listingstats_df.record_date.dt.tz_localize('US/Central')"
   ]
  },
  {
   "cell_type": "code",
   "execution_count": 6,
   "metadata": {},
   "outputs": [],
   "source": [
    "listingstats_df['week'] = (listingstats_df['record_date_local'] + pd.DateOffset(days=1)).dt.week\n",
    "\n",
    "listingstats_df=listingstats_df.sort_values(by='record_date',ascending=False)"
   ]
  },
  {
   "cell_type": "code",
   "execution_count": 7,
   "metadata": {},
   "outputs": [],
   "source": [
    "listingstats_df = listingstats_df.astype({\"visits\": int, \"sold\": int, 'revenue':float})\n"
   ]
  },
  {
   "cell_type": "code",
   "execution_count": 8,
   "metadata": {},
   "outputs": [
    {
     "data": {
      "text/html": [
       "<div>\n",
       "<style scoped>\n",
       "    .dataframe tbody tr th:only-of-type {\n",
       "        vertical-align: middle;\n",
       "    }\n",
       "\n",
       "    .dataframe tbody tr th {\n",
       "        vertical-align: top;\n",
       "    }\n",
       "\n",
       "    .dataframe thead th {\n",
       "        text-align: right;\n",
       "    }\n",
       "</style>\n",
       "<table border=\"1\" class=\"dataframe\">\n",
       "  <thead>\n",
       "    <tr style=\"text-align: right;\">\n",
       "      <th></th>\n",
       "      <th>listingID</th>\n",
       "      <th>record_date</th>\n",
       "      <th>revenue</th>\n",
       "      <th>sold</th>\n",
       "      <th>visits</th>\n",
       "      <th>record_date_local</th>\n",
       "      <th>week</th>\n",
       "    </tr>\n",
       "  </thead>\n",
       "  <tbody>\n",
       "    <tr>\n",
       "      <th>1446</th>\n",
       "      <td>680082346</td>\n",
       "      <td>2019-05-12</td>\n",
       "      <td>0.0</td>\n",
       "      <td>0</td>\n",
       "      <td>1</td>\n",
       "      <td>2019-05-12 00:00:00-05:00</td>\n",
       "      <td>20</td>\n",
       "    </tr>\n",
       "    <tr>\n",
       "      <th>178</th>\n",
       "      <td>701341356</td>\n",
       "      <td>2019-07-03</td>\n",
       "      <td>0.0</td>\n",
       "      <td>0</td>\n",
       "      <td>2</td>\n",
       "      <td>2019-07-03 00:00:00-05:00</td>\n",
       "      <td>27</td>\n",
       "    </tr>\n",
       "    <tr>\n",
       "      <th>2079</th>\n",
       "      <td>680082346</td>\n",
       "      <td>2019-03-29</td>\n",
       "      <td>0.0</td>\n",
       "      <td>0</td>\n",
       "      <td>0</td>\n",
       "      <td>2019-03-29 00:00:00-05:00</td>\n",
       "      <td>13</td>\n",
       "    </tr>\n",
       "    <tr>\n",
       "      <th>371</th>\n",
       "      <td>680071910</td>\n",
       "      <td>2019-06-27</td>\n",
       "      <td>0.0</td>\n",
       "      <td>0</td>\n",
       "      <td>0</td>\n",
       "      <td>2019-06-27 00:00:00-05:00</td>\n",
       "      <td>26</td>\n",
       "    </tr>\n",
       "    <tr>\n",
       "      <th>1843</th>\n",
       "      <td>680064082</td>\n",
       "      <td>2019-04-18</td>\n",
       "      <td>0.0</td>\n",
       "      <td>0</td>\n",
       "      <td>16</td>\n",
       "      <td>2019-04-18 00:00:00-05:00</td>\n",
       "      <td>16</td>\n",
       "    </tr>\n",
       "    <tr>\n",
       "      <th>1107</th>\n",
       "      <td>693947901</td>\n",
       "      <td>2019-05-27</td>\n",
       "      <td>0.0</td>\n",
       "      <td>0</td>\n",
       "      <td>0</td>\n",
       "      <td>2019-05-27 00:00:00-05:00</td>\n",
       "      <td>22</td>\n",
       "    </tr>\n",
       "    <tr>\n",
       "      <th>1985</th>\n",
       "      <td>680077296</td>\n",
       "      <td>2019-04-06</td>\n",
       "      <td>0.0</td>\n",
       "      <td>0</td>\n",
       "      <td>0</td>\n",
       "      <td>2019-04-06 00:00:00-05:00</td>\n",
       "      <td>14</td>\n",
       "    </tr>\n",
       "    <tr>\n",
       "      <th>2822</th>\n",
       "      <td>685451744</td>\n",
       "      <td>2019-08-12</td>\n",
       "      <td>0.0</td>\n",
       "      <td>0</td>\n",
       "      <td>0</td>\n",
       "      <td>2019-08-12 00:00:00-05:00</td>\n",
       "      <td>33</td>\n",
       "    </tr>\n",
       "    <tr>\n",
       "      <th>2109</th>\n",
       "      <td>680064082</td>\n",
       "      <td>2019-03-27</td>\n",
       "      <td>0.0</td>\n",
       "      <td>0</td>\n",
       "      <td>0</td>\n",
       "      <td>2019-03-27 00:00:00-05:00</td>\n",
       "      <td>13</td>\n",
       "    </tr>\n",
       "    <tr>\n",
       "      <th>2455</th>\n",
       "      <td>721879701</td>\n",
       "      <td>2019-07-22</td>\n",
       "      <td>0.0</td>\n",
       "      <td>0</td>\n",
       "      <td>0</td>\n",
       "      <td>2019-07-22 00:00:00-05:00</td>\n",
       "      <td>30</td>\n",
       "    </tr>\n",
       "  </tbody>\n",
       "</table>\n",
       "</div>"
      ],
      "text/plain": [
       "      listingID record_date  revenue  sold  visits         record_date_local  \\\n",
       "1446  680082346  2019-05-12      0.0     0       1 2019-05-12 00:00:00-05:00   \n",
       "178   701341356  2019-07-03      0.0     0       2 2019-07-03 00:00:00-05:00   \n",
       "2079  680082346  2019-03-29      0.0     0       0 2019-03-29 00:00:00-05:00   \n",
       "371   680071910  2019-06-27      0.0     0       0 2019-06-27 00:00:00-05:00   \n",
       "1843  680064082  2019-04-18      0.0     0      16 2019-04-18 00:00:00-05:00   \n",
       "1107  693947901  2019-05-27      0.0     0       0 2019-05-27 00:00:00-05:00   \n",
       "1985  680077296  2019-04-06      0.0     0       0 2019-04-06 00:00:00-05:00   \n",
       "2822  685451744  2019-08-12      0.0     0       0 2019-08-12 00:00:00-05:00   \n",
       "2109  680064082  2019-03-27      0.0     0       0 2019-03-27 00:00:00-05:00   \n",
       "2455  721879701  2019-07-22      0.0     0       0 2019-07-22 00:00:00-05:00   \n",
       "\n",
       "      week  \n",
       "1446    20  \n",
       "178     27  \n",
       "2079    13  \n",
       "371     26  \n",
       "1843    16  \n",
       "1107    22  \n",
       "1985    14  \n",
       "2822    33  \n",
       "2109    13  \n",
       "2455    30  "
      ]
     },
     "execution_count": 8,
     "metadata": {},
     "output_type": "execute_result"
    }
   ],
   "source": [
    "listingstats_df.sample(10)"
   ]
  },
  {
   "cell_type": "code",
   "execution_count": 9,
   "metadata": {},
   "outputs": [
    {
     "data": {
      "text/plain": [
       "listingID                                object\n",
       "record_date                      datetime64[ns]\n",
       "revenue                                 float64\n",
       "sold                                      int64\n",
       "visits                                    int64\n",
       "record_date_local    datetime64[ns, US/Central]\n",
       "week                                      int64\n",
       "dtype: object"
      ]
     },
     "execution_count": 9,
     "metadata": {},
     "output_type": "execute_result"
    }
   ],
   "source": [
    "cur_week_no=listingstats_df.iloc[0]['week']\n",
    "\n",
    "cur_week_stats=listingstats_df.loc[listingstats_df['week'] == cur_week_no,:]\n",
    "\n",
    "cur_week_stats.head()\n",
    "cur_week_stats.dtypes"
   ]
  },
  {
   "cell_type": "code",
   "execution_count": 10,
   "metadata": {},
   "outputs": [
    {
     "data": {
      "text/plain": [
       "listingID                                object\n",
       "record_date                      datetime64[ns]\n",
       "revenue                                 float64\n",
       "sold                                      int64\n",
       "visits                                    int64\n",
       "record_date_local    datetime64[ns, US/Central]\n",
       "week                                      int64\n",
       "dtype: object"
      ]
     },
     "execution_count": 10,
     "metadata": {},
     "output_type": "execute_result"
    }
   ],
   "source": [
    "cur_week_stats.dtypes"
   ]
  },
  {
   "cell_type": "code",
   "execution_count": 11,
   "metadata": {},
   "outputs": [
    {
     "data": {
      "text/plain": [
       "listingID                                object\n",
       "record_date                      datetime64[ns]\n",
       "revenue                                   int64\n",
       "sold                                      int64\n",
       "visits                                    int64\n",
       "record_date_local    datetime64[ns, US/Central]\n",
       "week                                      int64\n",
       "dtype: object"
      ]
     },
     "execution_count": 11,
     "metadata": {},
     "output_type": "execute_result"
    }
   ],
   "source": [
    "visits=[]\n",
    "\n",
    "cur_week_stats = cur_week_stats.astype({\"visits\": int, \"sold\": int, 'revenue':int})\n",
    "cur_week_stats.dtypes"
   ]
  },
  {
   "cell_type": "code",
   "execution_count": 12,
   "metadata": {},
   "outputs": [
    {
     "data": {
      "text/plain": [
       "48"
      ]
     },
     "execution_count": 12,
     "metadata": {},
     "output_type": "execute_result"
    }
   ],
   "source": [
    "cur_visits_perweek=cur_week_stats['visits'].sum()\n",
    "cur_visits_perweek"
   ]
  },
  {
   "cell_type": "code",
   "execution_count": 13,
   "metadata": {},
   "outputs": [
    {
     "data": {
      "text/html": [
       "<div>\n",
       "<style scoped>\n",
       "    .dataframe tbody tr th:only-of-type {\n",
       "        vertical-align: middle;\n",
       "    }\n",
       "\n",
       "    .dataframe tbody tr th {\n",
       "        vertical-align: top;\n",
       "    }\n",
       "\n",
       "    .dataframe thead th {\n",
       "        text-align: right;\n",
       "    }\n",
       "</style>\n",
       "<table border=\"1\" class=\"dataframe\">\n",
       "  <thead>\n",
       "    <tr style=\"text-align: right;\">\n",
       "      <th></th>\n",
       "      <th>listingID</th>\n",
       "      <th>record_date</th>\n",
       "      <th>revenue</th>\n",
       "      <th>sold</th>\n",
       "      <th>visits</th>\n",
       "      <th>record_date_local</th>\n",
       "      <th>week</th>\n",
       "    </tr>\n",
       "  </thead>\n",
       "  <tbody>\n",
       "    <tr>\n",
       "      <th>2960</th>\n",
       "      <td>687898920</td>\n",
       "      <td>2019-08-17</td>\n",
       "      <td>0.0</td>\n",
       "      <td>0</td>\n",
       "      <td>2</td>\n",
       "      <td>2019-08-17 00:00:00-05:00</td>\n",
       "      <td>33</td>\n",
       "    </tr>\n",
       "    <tr>\n",
       "      <th>2967</th>\n",
       "      <td>693930997</td>\n",
       "      <td>2019-08-17</td>\n",
       "      <td>0.0</td>\n",
       "      <td>0</td>\n",
       "      <td>0</td>\n",
       "      <td>2019-08-17 00:00:00-05:00</td>\n",
       "      <td>33</td>\n",
       "    </tr>\n",
       "    <tr>\n",
       "      <th>2972</th>\n",
       "      <td>721879701</td>\n",
       "      <td>2019-08-17</td>\n",
       "      <td>0.0</td>\n",
       "      <td>0</td>\n",
       "      <td>0</td>\n",
       "      <td>2019-08-17 00:00:00-05:00</td>\n",
       "      <td>33</td>\n",
       "    </tr>\n",
       "    <tr>\n",
       "      <th>2971</th>\n",
       "      <td>721881161</td>\n",
       "      <td>2019-08-17</td>\n",
       "      <td>0.0</td>\n",
       "      <td>0</td>\n",
       "      <td>0</td>\n",
       "      <td>2019-08-17 00:00:00-05:00</td>\n",
       "      <td>33</td>\n",
       "    </tr>\n",
       "    <tr>\n",
       "      <th>2970</th>\n",
       "      <td>701339360</td>\n",
       "      <td>2019-08-17</td>\n",
       "      <td>0.0</td>\n",
       "      <td>0</td>\n",
       "      <td>3</td>\n",
       "      <td>2019-08-17 00:00:00-05:00</td>\n",
       "      <td>33</td>\n",
       "    </tr>\n",
       "  </tbody>\n",
       "</table>\n",
       "</div>"
      ],
      "text/plain": [
       "      listingID record_date  revenue  sold  visits         record_date_local  \\\n",
       "2960  687898920  2019-08-17      0.0     0       2 2019-08-17 00:00:00-05:00   \n",
       "2967  693930997  2019-08-17      0.0     0       0 2019-08-17 00:00:00-05:00   \n",
       "2972  721879701  2019-08-17      0.0     0       0 2019-08-17 00:00:00-05:00   \n",
       "2971  721881161  2019-08-17      0.0     0       0 2019-08-17 00:00:00-05:00   \n",
       "2970  701339360  2019-08-17      0.0     0       3 2019-08-17 00:00:00-05:00   \n",
       "\n",
       "      week  \n",
       "2960    33  \n",
       "2967    33  \n",
       "2972    33  \n",
       "2971    33  \n",
       "2970    33  "
      ]
     },
     "execution_count": 13,
     "metadata": {},
     "output_type": "execute_result"
    }
   ],
   "source": [
    "\n",
    "prev_week_no=cur_week_no-1\n",
    "prev_week_stats=listingstats_df.loc[listingstats_df['week'] == prev_week_no,:]\n",
    "prev_week_stats.head()"
   ]
  },
  {
   "cell_type": "code",
   "execution_count": 14,
   "metadata": {},
   "outputs": [
    {
     "data": {
      "text/plain": [
       "['48', '33.3%']"
      ]
     },
     "execution_count": 14,
     "metadata": {},
     "output_type": "execute_result"
    }
   ],
   "source": [
    "prev_visits_perweek=prev_week_stats['visits'].sum()\n",
    "\n",
    "visits_diff=(cur_visits_perweek/prev_visits_perweek)*100\n",
    "visits_diff = str(round(visits_diff, 1))\n",
    "\n",
    "# visits_diff='{0:+d}'.format(visits_diff)\n",
    "\n",
    "visits.append(str(cur_visits_perweek))\n",
    "visits.append(visits_diff+'%')\n",
    "\n",
    "visits"
   ]
  },
  {
   "cell_type": "code",
   "execution_count": 15,
   "metadata": {},
   "outputs": [
    {
     "data": {
      "text/html": [
       "<div>\n",
       "<style scoped>\n",
       "    .dataframe tbody tr th:only-of-type {\n",
       "        vertical-align: middle;\n",
       "    }\n",
       "\n",
       "    .dataframe tbody tr th {\n",
       "        vertical-align: top;\n",
       "    }\n",
       "\n",
       "    .dataframe thead th {\n",
       "        text-align: right;\n",
       "    }\n",
       "</style>\n",
       "<table border=\"1\" class=\"dataframe\">\n",
       "  <thead>\n",
       "    <tr style=\"text-align: right;\">\n",
       "      <th></th>\n",
       "      <th>buyerID</th>\n",
       "      <th>dateLiked</th>\n",
       "      <th>listingID</th>\n",
       "    </tr>\n",
       "  </thead>\n",
       "  <tbody>\n",
       "    <tr>\n",
       "      <th>0</th>\n",
       "      <td>tinareyes1106</td>\n",
       "      <td>7/24/19</td>\n",
       "      <td>687898920</td>\n",
       "    </tr>\n",
       "    <tr>\n",
       "      <th>1</th>\n",
       "      <td>laurensexton05</td>\n",
       "      <td>7/24/19</td>\n",
       "      <td>687898920</td>\n",
       "    </tr>\n",
       "    <tr>\n",
       "      <th>2</th>\n",
       "      <td>savnrgy</td>\n",
       "      <td>7/23/19</td>\n",
       "      <td>701344590</td>\n",
       "    </tr>\n",
       "    <tr>\n",
       "      <th>3</th>\n",
       "      <td>vtorreschi2</td>\n",
       "      <td>7/23/19</td>\n",
       "      <td>680064082</td>\n",
       "    </tr>\n",
       "    <tr>\n",
       "      <th>4</th>\n",
       "      <td>valeriegilroy1</td>\n",
       "      <td>7/23/19</td>\n",
       "      <td>693930997</td>\n",
       "    </tr>\n",
       "  </tbody>\n",
       "</table>\n",
       "</div>"
      ],
      "text/plain": [
       "          buyerID dateLiked  listingID\n",
       "0   tinareyes1106   7/24/19  687898920\n",
       "1  laurensexton05   7/24/19  687898920\n",
       "2         savnrgy   7/23/19  701344590\n",
       "3     vtorreschi2   7/23/19  680064082\n",
       "4  valeriegilroy1   7/23/19  693930997"
      ]
     },
     "execution_count": 15,
     "metadata": {},
     "output_type": "execute_result"
    }
   ],
   "source": [
    "favs_db = \"favorites.json\"\n",
    "r = requests.get(config.databaseURL + favs_db)\n",
    "r = r.json()\n",
    "\n",
    "if r:\n",
    "    data = [r[i] for i in r]\n",
    "    favs_df = pd.DataFrame.from_dict(data, orient='columns')\n",
    "    \n",
    "favs_df.head()"
   ]
  },
  {
   "cell_type": "code",
   "execution_count": 16,
   "metadata": {},
   "outputs": [],
   "source": [
    "favs_df['dateLiked']= pd.to_datetime(favs_df['dateLiked'])"
   ]
  },
  {
   "cell_type": "code",
   "execution_count": 17,
   "metadata": {},
   "outputs": [],
   "source": [
    "favs_df[\"dateLiked_local\"] = favs_df.dateLiked.dt.tz_localize('US/Central')"
   ]
  },
  {
   "cell_type": "code",
   "execution_count": 18,
   "metadata": {},
   "outputs": [
    {
     "data": {
      "text/plain": [
       "[{'avisitsPerWeek': '48', 'favsPerWeek': '10'},\n",
       " {'avisitsPerWeek': '33.3%', 'favsPerWeek': '25.0%'}]"
      ]
     },
     "execution_count": 18,
     "metadata": {},
     "output_type": "execute_result"
    }
   ],
   "source": [
    "favs_df['week'] = (favs_df['dateLiked_local'] + pd.DateOffset(days=1)).dt.week\n",
    "cur_week_favs=favs_df.loc[favs_df['week'] == cur_week_no,:]\n",
    "\n",
    "cur_wk_fav_count=cur_week_favs['buyerID'].count()\n",
    "\n",
    "prev_week_favs=favs_df.loc[favs_df['week'] == prev_week_no,:]\n",
    "prev_wk_fav_count=prev_week_favs['buyerID'].count()\n",
    "\n",
    "favs=[]\n",
    "\n",
    "wk_fav_diff=(cur_wk_fav_count/prev_wk_fav_count)*100\n",
    "wk_fav_diff = str(round(wk_fav_diff, 1))\n",
    "\n",
    "favs.append(str(cur_wk_fav_count))\n",
    "favs.append(wk_fav_diff+'%')\n",
    "\n",
    "listing_stats_df=pd.DataFrame({'visitsPerWeek':visits,\n",
    "                             'favsPerWeek':favs})\n",
    "\n",
    "list_stats=[]\n",
    "\n",
    "for index, item in listing_stats_df.iterrows():\n",
    "    stats={}\n",
    "    stats['avisitsPerWeek']=item[0]\n",
    "    stats['favsPerWeek']=(item[1])\n",
    "\n",
    "    list_stats.append(stats)\n",
    "\n",
    "list_stats"
   ]
  },
  {
   "cell_type": "code",
   "execution_count": null,
   "metadata": {},
   "outputs": [],
   "source": []
  },
  {
   "cell_type": "code",
   "execution_count": null,
   "metadata": {},
   "outputs": [],
   "source": []
  }
 ],
 "metadata": {
  "kernelspec": {
   "display_name": "Python 3",
   "language": "python",
   "name": "python3"
  },
  "language_info": {
   "codemirror_mode": {
    "name": "ipython",
    "version": 3
   },
   "file_extension": ".py",
   "mimetype": "text/x-python",
   "name": "python",
   "nbconvert_exporter": "python",
   "pygments_lexer": "ipython3",
   "version": "3.7.1"
  }
 },
 "nbformat": 4,
 "nbformat_minor": 2
}
