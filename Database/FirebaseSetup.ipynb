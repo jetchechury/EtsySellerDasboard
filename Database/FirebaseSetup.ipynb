{
 "cells": [
  {
   "cell_type": "code",
   "execution_count": 1,
   "metadata": {},
   "outputs": [
    {
     "data": {
      "text/plain": [
       "<firebase_admin.App at 0x10a6bb0f0>"
      ]
     },
     "execution_count": 1,
     "metadata": {},
     "output_type": "execute_result"
    }
   ],
   "source": [
    "import firebase_admin\n",
    "from firebase_admin import credentials\n",
    "from firebase_admin import db\n",
    "import requests\n",
    "from pprint import pprint\n",
    "import pandas as pd\n",
    "\n",
    "# Fetch the service account key JSON file contents\n",
    "cred = credentials.Certificate(r\"/Users/jessicaetchechury/Desktop/JEtchCreationsDashboard/jetchdashboard-firebase-adminsdk-x0h1n-c05f3d8b56.json\")\n",
    "# Initialize the app with a service account, granting admin privileges\n",
    "firebase_admin.initialize_app(cred, {\n",
    "    'databaseURL': 'https://jetchdashboard.firebaseio.com/'\n",
    "})"
   ]
  },
  {
   "cell_type": "markdown",
   "metadata": {},
   "source": [
    "# Buyers"
   ]
  },
  {
   "cell_type": "code",
   "execution_count": null,
   "metadata": {
    "scrolled": true
   },
   "outputs": [],
   "source": [
    "#initial upload to table\n",
    "ref = db.reference('buyers')\n",
    "df=pd.read_csv('/Users/jessicaetchechury/Desktop/JEtchCreationsDashboard/Data/Buyers.csv')\n",
    "df.head()"
   ]
  },
  {
   "cell_type": "code",
   "execution_count": null,
   "metadata": {},
   "outputs": [],
   "source": [
    "df = df[pd.notnull(df['record_date'])]\n",
    "df = df.drop_duplicates(subset=['buyerID'], keep='last')\n",
    "df\n"
   ]
  },
  {
   "cell_type": "code",
   "execution_count": null,
   "metadata": {},
   "outputs": [],
   "source": [
    "df.fillna(\"\", inplace=True)\n",
    "[ref.push(item.to_dict()) for index, item in df.iterrows()]"
   ]
  },
  {
   "cell_type": "markdown",
   "metadata": {},
   "source": [
    "# Listing Categorical"
   ]
  },
  {
   "cell_type": "code",
   "execution_count": null,
   "metadata": {},
   "outputs": [],
   "source": [
    "#initial upload to table\n",
    "ref = db.reference('listing_categories')\n",
    "df=pd.read_csv('/Users/jessicaetchechury/Desktop/JEtchCreationsDashboard/UploadToFirebase/Listing_Categorical.csv')\n",
    "df=df.rename(columns={\"date\":\"record_date\"})\n",
    "df.head()\n"
   ]
  },
  {
   "cell_type": "code",
   "execution_count": null,
   "metadata": {},
   "outputs": [],
   "source": [
    "df.fillna(\"\", inplace=True)\n",
    "[ref.push(item.to_dict()) for index, item in df.iterrows()]"
   ]
  },
  {
   "cell_type": "code",
   "execution_count": null,
   "metadata": {},
   "outputs": [],
   "source": [
    "#Push all information in dataframe to FB table\n",
    "ref = db.reference('listing_categories')\n",
    "listing_categorical_df.fillna(\"\", inplace=True)\n",
    "[ref.push(item.to_dict()) for index, item in listing_categorical_df.iterrows()]"
   ]
  },
  {
   "cell_type": "markdown",
   "metadata": {},
   "source": [
    "# Listing IDs"
   ]
  },
  {
   "cell_type": "code",
   "execution_count": null,
   "metadata": {},
   "outputs": [],
   "source": [
    "#initial upload to table\n",
    "ref = db.reference('listing_ids')\n",
    "df=pd.read_csv('/Users/jessicaetchechury/Desktop/JEtchCreationsDashboard/UploadToFirebase/Listing_IDs.csv')\n",
    "df.head()\n"
   ]
  },
  {
   "cell_type": "code",
   "execution_count": null,
   "metadata": {},
   "outputs": [],
   "source": [
    "df.fillna(\"\", inplace=True)\n",
    "[ref.push(item.to_dict()) for index, item in df.iterrows()]"
   ]
  },
  {
   "cell_type": "code",
   "execution_count": null,
   "metadata": {},
   "outputs": [],
   "source": [
    "listingIds_db = \"listing_ids.json\"\n",
    "r = requests.get('https://jetchdashboard.firebaseio.com/' + listingIds_db)\n",
    "r = r.json()\n",
    "\n",
    "if r:\n",
    "    data = [r[i] for i in r]\n",
    "    df_fb = pd.DataFrame.from_dict(data, orient='columns')\n",
    "\n",
    "print(df_fb.head())"
   ]
  },
  {
   "cell_type": "markdown",
   "metadata": {},
   "source": [
    "# Listing Images"
   ]
  },
  {
   "cell_type": "code",
   "execution_count": null,
   "metadata": {},
   "outputs": [],
   "source": [
    "#initial upload to table\n",
    "ref = db.reference('listing_images')\n",
    "df=pd.read_csv('/Users/jessicaetchechury/Desktop/JEtchCreationsDashboard/UploadToFirebase/Listing_Images.csv')\n",
    "df=df.rename(columns={\"date\":\"record_date\"})\n",
    "df.head()\n"
   ]
  },
  {
   "cell_type": "code",
   "execution_count": null,
   "metadata": {},
   "outputs": [],
   "source": [
    "df.fillna(\"\", inplace=True)\n",
    "[ref.push(item.to_dict()) for index, item in df.iterrows()]"
   ]
  },
  {
   "cell_type": "markdown",
   "metadata": {},
   "source": [
    "# Listing Info"
   ]
  },
  {
   "cell_type": "code",
   "execution_count": null,
   "metadata": {},
   "outputs": [],
   "source": [
    "ref = db.reference('listing_info')\n",
    "df=pd.read_csv('/Users/jessicaetchechury/Desktop/JEtchCreationsDashboard/UploadToFirebase/Listing_Information.csv')\n",
    "df=df.rename(columns={\"date\":\"record_date\"})\n",
    "df.head()"
   ]
  },
  {
   "cell_type": "code",
   "execution_count": null,
   "metadata": {},
   "outputs": [],
   "source": [
    "df.fillna(\"\", inplace=True)\n",
    "[ref.push(item.to_dict()) for index, item in df.iterrows()]"
   ]
  },
  {
   "cell_type": "markdown",
   "metadata": {},
   "source": [
    "# Listing Shipping"
   ]
  },
  {
   "cell_type": "code",
   "execution_count": null,
   "metadata": {},
   "outputs": [],
   "source": [
    "# Push all records to FB table\n",
    "ref = db.reference('listing_shipping')\n",
    "df=pd.read_csv('/Users/jessicaetchechury/Desktop/JEtchCreationsDashboard/UploadToFirebase/Listing_Shipping.csv')\n",
    "df=df.rename(columns={\"date\":\"record_date\"})\n",
    "df.head()\n"
   ]
  },
  {
   "cell_type": "code",
   "execution_count": null,
   "metadata": {},
   "outputs": [],
   "source": [
    "df.fillna(\"\", inplace=True)\n",
    "[ref.push(item.to_dict()) for index, item in df.iterrows()]"
   ]
  },
  {
   "cell_type": "markdown",
   "metadata": {},
   "source": [
    "# Listing Tags"
   ]
  },
  {
   "cell_type": "code",
   "execution_count": null,
   "metadata": {},
   "outputs": [],
   "source": [
    "ref = db.reference('listing_tags')\n",
    "df=pd.read_csv('/Users/jessicaetchechury/Desktop/JEtchCreationsDashboard/UploadToFirebase/Listing_Tags.csv')\n",
    "df=df.rename(columns={\"date\":\"record_date\"})\n",
    "df.head()"
   ]
  },
  {
   "cell_type": "code",
   "execution_count": null,
   "metadata": {},
   "outputs": [],
   "source": [
    "df.fillna(\"\", inplace=True)\n",
    "[ref.push(item.to_dict()) for index, item in df.iterrows()]"
   ]
  },
  {
   "cell_type": "markdown",
   "metadata": {},
   "source": [
    "# Listing Stats"
   ]
  },
  {
   "cell_type": "code",
   "execution_count": null,
   "metadata": {},
   "outputs": [],
   "source": [
    "ref = db.reference('listing_stats')\n",
    "df=pd.read_csv('/Users/jessicaetchechury/Desktop/JEtchCreationsDashboard/Data/listing_stats.csv')\n",
    "\n",
    "df.head()\n"
   ]
  },
  {
   "cell_type": "code",
   "execution_count": null,
   "metadata": {},
   "outputs": [],
   "source": [
    "df.fillna(\"\", inplace=True)\n",
    "[ref.push(item.to_dict()) for index, item in df.iterrows()]"
   ]
  },
  {
   "cell_type": "markdown",
   "metadata": {},
   "source": [
    "# Order Net"
   ]
  },
  {
   "cell_type": "code",
   "execution_count": null,
   "metadata": {},
   "outputs": [],
   "source": [
    "ref = db.reference('order_net')\n",
    "df=pd.read_csv('/Users/jessicaetchechury/Desktop/JEtchCreationsDashboard/UploadToFirebase/Order_Net.csv')\n",
    "df.head()\n"
   ]
  },
  {
   "cell_type": "code",
   "execution_count": null,
   "metadata": {},
   "outputs": [],
   "source": [
    "df.fillna(\"\", inplace=True)\n",
    "[ref.push(item.to_dict()) for index, item in df.iterrows()]"
   ]
  },
  {
   "cell_type": "markdown",
   "metadata": {},
   "source": [
    "# **Order Payment Adjustments"
   ]
  },
  {
   "cell_type": "code",
   "execution_count": null,
   "metadata": {},
   "outputs": [],
   "source": [
    "ref = db.reference('order_pay_adj')\n",
    "df2=pd.read_csv('/Users/jessicaetchechury/Desktop/JEtchCreationsDashboard/UploadToFirebase/Order_Payment_Adjustments.csv')\n",
    "df2.head()"
   ]
  },
  {
   "cell_type": "code",
   "execution_count": null,
   "metadata": {},
   "outputs": [],
   "source": [
    "df.fillna(\"\", inplace=True)\n",
    "[ref.update(item.to_dict()) for index, item in df.iterrows()]"
   ]
  },
  {
   "cell_type": "code",
   "execution_count": null,
   "metadata": {},
   "outputs": [],
   "source": [
    "# df.iloc[0, df.columns.get_loc('adjustedNet')] = 98\n",
    "\n",
    "results = ref.where('listingID', '>', '0').get()\n",
    "# Update Pepe to José\n",
    "field_updates = {\"name\": \"José\"}\n",
    "for item in results:\n",
    "    doc = col_ref.document(item.id)\n",
    "    doc.delete"
   ]
  },
  {
   "cell_type": "code",
   "execution_count": null,
   "metadata": {
    "scrolled": true
   },
   "outputs": [],
   "source": [
    "df=df.replace([\"null\"],['NaN'])\n",
    "df"
   ]
  },
  {
   "cell_type": "code",
   "execution_count": null,
   "metadata": {},
   "outputs": [],
   "source": [
    "pd.concat"
   ]
  },
  {
   "cell_type": "markdown",
   "metadata": {},
   "source": [
    "# **Order Payment"
   ]
  },
  {
   "cell_type": "code",
   "execution_count": null,
   "metadata": {},
   "outputs": [],
   "source": [
    "ref = db.reference('order_pay')\n",
    "df=pd.read_csv('/Users/jessicaetchechury/Desktop/JEtchCreationsDashboard/UploadToFirebase/Order_Payment.csv')\n",
    "df.head()"
   ]
  },
  {
   "cell_type": "code",
   "execution_count": null,
   "metadata": {},
   "outputs": [],
   "source": [
    "df.fillna(\"\", inplace=True)\n",
    "[ref.push(item.to_dict()) for index, item in df.iterrows()]"
   ]
  },
  {
   "cell_type": "markdown",
   "metadata": {},
   "source": [
    "# Order Processing Time"
   ]
  },
  {
   "cell_type": "code",
   "execution_count": null,
   "metadata": {},
   "outputs": [],
   "source": [
    "ref = db.reference('order_proc_time')\n",
    "df=pd.read_csv('/Users/jessicaetchechury/Desktop/JEtchCreationsDashboard/UploadToFirebase/Order_Processing_Time.csv')\n",
    "df=df.rename(columns={\"date\":\"record_date\"})\n",
    "\n",
    "df.head()"
   ]
  },
  {
   "cell_type": "code",
   "execution_count": null,
   "metadata": {},
   "outputs": [],
   "source": [
    "df.fillna(\"\", inplace=True)\n",
    "[ref.push(item.to_dict()) for index, item in df.iterrows()]"
   ]
  },
  {
   "cell_type": "markdown",
   "metadata": {},
   "source": [
    "# Order Shipped"
   ]
  },
  {
   "cell_type": "code",
   "execution_count": null,
   "metadata": {},
   "outputs": [],
   "source": [
    "ref = db.reference('order_shipped')\n",
    "df=pd.read_csv('/Users/jessicaetchechury/Desktop/JEtchCreationsDashboard/UploadToFirebase/Order_Shipped.csv')\n",
    "df.head()"
   ]
  },
  {
   "cell_type": "code",
   "execution_count": null,
   "metadata": {},
   "outputs": [],
   "source": [
    "df.fillna(\"\", inplace=True)\n",
    "[ref.push(item.to_dict()) for index, item in df.iterrows()]"
   ]
  },
  {
   "cell_type": "markdown",
   "metadata": {},
   "source": [
    "# Order Sold Items"
   ]
  },
  {
   "cell_type": "code",
   "execution_count": null,
   "metadata": {},
   "outputs": [],
   "source": [
    "ref = db.reference('order_items')\n",
    "# df=pd.read_csv('/Users/jessicaetchechury/Desktop/JEtchCreationsDashboard/UploadToFirebase/Order_Sold_Items.csv')\n",
    "# df.head()"
   ]
  },
  {
   "cell_type": "code",
   "execution_count": null,
   "metadata": {},
   "outputs": [],
   "source": [
    "df = pd.DataFrame(columns=['orderID', 'transactionID', 'listingID', 'quantity', 'variations', 'record_date'])\n",
    "[ref.push(item.to_dict()) for index, item in df.iterrows()]"
   ]
  },
  {
   "cell_type": "markdown",
   "metadata": {},
   "source": [
    "# Orders"
   ]
  },
  {
   "cell_type": "code",
   "execution_count": null,
   "metadata": {},
   "outputs": [],
   "source": [
    "ref = db.reference('orders')\n",
    "df=pd.read_csv('/Users/jessicaetchechury/Desktop/JEtchCreationsDashboard/Data/orders.csv')\n",
    "df"
   ]
  },
  {
   "cell_type": "code",
   "execution_count": null,
   "metadata": {},
   "outputs": [],
   "source": [
    "df.fillna(\"\", inplace=True)\n",
    "[ref.push(item.to_dict()) for index, item in df.iterrows()]"
   ]
  },
  {
   "cell_type": "markdown",
   "metadata": {},
   "source": [
    "# Production ET"
   ]
  },
  {
   "cell_type": "code",
   "execution_count": null,
   "metadata": {},
   "outputs": [],
   "source": [
    "ref = db.reference('production_et')\n",
    "df=pd.read_csv('/Users/jessicaetchechury/Desktop/JEtchCreationsDashboard/UploadToFirebase/Production_ET.csv')\n",
    "df=df.rename(columns={\"date\":\"record_date\"})\n",
    "\n",
    "df.head()"
   ]
  },
  {
   "cell_type": "code",
   "execution_count": null,
   "metadata": {},
   "outputs": [],
   "source": [
    "df.fillna(\"\", inplace=True)\n",
    "[ref.push(item.to_dict()) for index, item in df.iterrows()]"
   ]
  },
  {
   "cell_type": "markdown",
   "metadata": {},
   "source": [
    "# Shipping Addresses"
   ]
  },
  {
   "cell_type": "code",
   "execution_count": null,
   "metadata": {},
   "outputs": [],
   "source": [
    "ref = db.reference('shipping_addresses')\n",
    "df=pd.read_csv('/Users/jessicaetchechury/Desktop/JEtchCreationsDashboard/UploadToFirebase/Shipping_Addresses.csv')\n",
    "df=df.rename(columns={\"date\":\"record_date\"})\n",
    "df.head()"
   ]
  },
  {
   "cell_type": "code",
   "execution_count": null,
   "metadata": {},
   "outputs": [],
   "source": [
    "df.fillna(\"\", inplace=True)\n",
    "[ref.push(item.to_dict()) for index, item in df.iterrows()]"
   ]
  },
  {
   "cell_type": "markdown",
   "metadata": {},
   "source": [
    "# Shop Stats"
   ]
  },
  {
   "cell_type": "code",
   "execution_count": null,
   "metadata": {},
   "outputs": [],
   "source": [
    "ref = db.reference('shop_stats')\n",
    "df=pd.read_csv('/Users/jessicaetchechury/Desktop/JEtchCreationsDashboard/UploadToFirebase/Shop_Stats.csv')\n",
    "df=df.rename(columns={\"date\":\"record_date\"})\n",
    "df.head()"
   ]
  },
  {
   "cell_type": "code",
   "execution_count": null,
   "metadata": {},
   "outputs": [],
   "source": [
    "df.fillna(\"\", inplace=True)\n",
    "[ref.push(item.to_dict()) for index, item in df.iterrows()]"
   ]
  },
  {
   "cell_type": "markdown",
   "metadata": {},
   "source": [
    "# Competitor Sales Daily"
   ]
  },
  {
   "cell_type": "code",
   "execution_count": null,
   "metadata": {},
   "outputs": [],
   "source": [
    "ref = db.reference('comp_sales_daily')\n",
    "df=pd.read_csv('/Users/jessicaetchechury/Desktop/JEtchCreationsDashboard/Data/eRank_CompetitorSalesDaily.csv')\n",
    "df=df.rename(columns={\"date\":\"record_date\"})\n",
    "df.head()\n"
   ]
  },
  {
   "cell_type": "code",
   "execution_count": null,
   "metadata": {},
   "outputs": [],
   "source": [
    "df.fillna(\"\", inplace=True)\n",
    "[ref.push(item.to_dict()) for index, item in df.iterrows()]"
   ]
  },
  {
   "cell_type": "markdown",
   "metadata": {},
   "source": [
    "# Competitor Sales Summary"
   ]
  },
  {
   "cell_type": "code",
   "execution_count": null,
   "metadata": {},
   "outputs": [],
   "source": [
    "ref = db.reference('comp_sales_summary')\n",
    "df=pd.read_csv('/Users/jessicaetchechury/Desktop/JEtchCreationsDashboard/Data/eRank_CompetitorSalesSummary.csv')\n",
    "df=df.rename(columns={\"date\":\"record_date\"})\n",
    "df.head()\n"
   ]
  },
  {
   "cell_type": "code",
   "execution_count": null,
   "metadata": {},
   "outputs": [],
   "source": [
    "df.fillna(\"\", inplace=True)\n",
    "[ref.push(item.to_dict()) for index, item in df.iterrows()]"
   ]
  },
  {
   "cell_type": "markdown",
   "metadata": {},
   "source": [
    "# Competitor Listings"
   ]
  },
  {
   "cell_type": "code",
   "execution_count": null,
   "metadata": {},
   "outputs": [],
   "source": [
    "#Get by unique ID\n",
    "keyToDelete = '-Lk_ZH8owBB0SDa2_NCu'\n",
    "test = db.reference('comp_listings/{0}'.format(keyToDelete)).get()\n",
    "print(test)\n",
    "#db.reference('tweets/{0}'.format(keyToDelete)).delete()"
   ]
  },
  {
   "cell_type": "code",
   "execution_count": null,
   "metadata": {},
   "outputs": [],
   "source": [
    "#Delete by property\n",
    "#gets all records in comp_listings\n",
    "tagToDelete = 'caketothetop'\n",
    "root = db.reference('comp_listings')\n",
    "tweets = root.get()\n",
    "\n",
    "keysToDelete = []\n",
    "for key, item in tweets.items():\n",
    "    if (item[\"Shop\"] == tagToDelete):\n",
    "        keysToDelete.append(key)\n",
    "        \n",
    "for keyToDelete in keysToDelete:\n",
    "    db.reference('comp_listings/{0}'.format(keyToDelete)).delete()"
   ]
  },
  {
   "cell_type": "code",
   "execution_count": null,
   "metadata": {},
   "outputs": [],
   "source": [
    "len(keysToDelete)"
   ]
  },
  {
   "cell_type": "code",
   "execution_count": null,
   "metadata": {},
   "outputs": [],
   "source": [
    "ref = db.reference('comp_listings')\n",
    "df=pd.read_csv('/Users/jessicaetchechury/Desktop/JEtchCreationsDashboard/Data/eRank_CompetitorListings.csv')\n",
    "df=df.rename(columns={\"date\":\"record_date\"})\n",
    "df.head()"
   ]
  },
  {
   "cell_type": "code",
   "execution_count": null,
   "metadata": {},
   "outputs": [],
   "source": [
    "df.fillna(\"\", inplace=True)\n",
    "[ref.push(item.to_dict()) for index, item in df.iterrows()]"
   ]
  },
  {
   "cell_type": "markdown",
   "metadata": {},
   "source": [
    "# Competitor Tags"
   ]
  },
  {
   "cell_type": "code",
   "execution_count": null,
   "metadata": {},
   "outputs": [],
   "source": [
    "ref = db.reference('comp_tags')\n",
    "df=pd.read_csv('/Users/jessicaetchechury/Desktop/JEtchCreationsDashboard/Data/eRank_CompetitorTags.csv')\n",
    "df.head()"
   ]
  },
  {
   "cell_type": "code",
   "execution_count": null,
   "metadata": {},
   "outputs": [],
   "source": [
    "df.fillna(\"\", inplace=True)\n",
    "[ref.push(item.to_dict()) for index, item in df.iterrows()]"
   ]
  },
  {
   "cell_type": "markdown",
   "metadata": {},
   "source": [
    "# Spotted On Etsy"
   ]
  },
  {
   "cell_type": "code",
   "execution_count": null,
   "metadata": {},
   "outputs": [],
   "source": [
    "ref = db.reference('spotted_on_etsy')\n",
    "df=pd.read_csv('/Users/jessicaetchechury/Desktop/JEtchCreationsDashboard/Data/eRank_SpottedOnEtsy.csv')\n",
    "df.head()\n",
    "\n"
   ]
  },
  {
   "cell_type": "code",
   "execution_count": null,
   "metadata": {},
   "outputs": [],
   "source": [
    "df.fillna(\"\", inplace=True)\n",
    "[ref.push(item.to_dict()) for index, item in df.iterrows()]"
   ]
  },
  {
   "cell_type": "markdown",
   "metadata": {},
   "source": [
    "# SEO Ratings"
   ]
  },
  {
   "cell_type": "code",
   "execution_count": null,
   "metadata": {},
   "outputs": [],
   "source": [
    "ref = db.reference('seo_ratings')\n",
    "df=pd.read_csv('/Users/jessicaetchechury/Desktop/JEtchCreationsDashboard/Data/eRank_SEOGrades.csv')\n",
    "df.dtypes"
   ]
  },
  {
   "cell_type": "code",
   "execution_count": null,
   "metadata": {},
   "outputs": [],
   "source": [
    "df.drop(['Unnamed: 0', '#'], axis=1, inplace=True)"
   ]
  },
  {
   "cell_type": "code",
   "execution_count": null,
   "metadata": {},
   "outputs": [],
   "source": [
    "df.fillna(\"\", inplace=True)\n",
    "[ref.push(item.to_dict()) for index, item in df.iterrows()]"
   ]
  },
  {
   "cell_type": "markdown",
   "metadata": {},
   "source": [
    "# Listing Details"
   ]
  },
  {
   "cell_type": "code",
   "execution_count": null,
   "metadata": {},
   "outputs": [],
   "source": [
    "ref = db.reference('listing_details')\n",
    "df=pd.read_csv('/Users/jessicaetchechury/Desktop/JEtchCreationsDashboard/Data/eRank_ListingDetails.csv')\n",
    "df.dtypes"
   ]
  },
  {
   "cell_type": "code",
   "execution_count": null,
   "metadata": {},
   "outputs": [],
   "source": [
    "df.drop(['#'], axis=1, inplace=True)"
   ]
  },
  {
   "cell_type": "code",
   "execution_count": null,
   "metadata": {},
   "outputs": [],
   "source": [
    "df.fillna(\"\", inplace=True)\n",
    "[ref.push(item.to_dict()) for index, item in df.iterrows()]"
   ]
  },
  {
   "cell_type": "code",
   "execution_count": null,
   "metadata": {},
   "outputs": [],
   "source": [
    "ref = db.reference('favorites')\n",
    "df=pd.read_csv('/Users/jessicaetchechury/Desktop/JEtchCreationsDashboard/UploadToFirebase/Favorites.csv')\n",
    "df.head()"
   ]
  },
  {
   "cell_type": "code",
   "execution_count": null,
   "metadata": {
    "scrolled": false
   },
   "outputs": [],
   "source": [
    "df.fillna(\"\", inplace=True)\n",
    "[ref.push(item.to_dict()) for index, item in df.iterrows()]"
   ]
  },
  {
   "cell_type": "markdown",
   "metadata": {},
   "source": [
    "# DELETE ENTIRE TABLE IN DATABASE"
   ]
  },
  {
   "cell_type": "code",
   "execution_count": null,
   "metadata": {},
   "outputs": [],
   "source": [
    "db.reference('order_shipped').delete()"
   ]
  },
  {
   "cell_type": "code",
   "execution_count": null,
   "metadata": {},
   "outputs": [],
   "source": []
  }
 ],
 "metadata": {
  "kernelspec": {
   "display_name": "Python 3",
   "language": "python",
   "name": "python3"
  },
  "language_info": {
   "codemirror_mode": {
    "name": "ipython",
    "version": 3
   },
   "file_extension": ".py",
   "mimetype": "text/x-python",
   "name": "python",
   "nbconvert_exporter": "python",
   "pygments_lexer": "ipython3",
   "version": "3.7.1"
  }
 },
 "nbformat": 4,
 "nbformat_minor": 2
}
